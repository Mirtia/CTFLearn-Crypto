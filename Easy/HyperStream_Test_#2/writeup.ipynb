{
 "cells": [
  {
   "attachments": {},
   "cell_type": "markdown",
   "metadata": {},
   "source": [
    "# HyperStream Test 2\n",
    "\n",
    "[Baconian cipher](https://www.dcode.fr/bacon-cipher)"
   ]
  }
 ],
 "metadata": {
  "language_info": {
   "name": "python"
  },
  "orig_nbformat": 4
 },
 "nbformat": 4,
 "nbformat_minor": 2
}
