{
 "cells": [
  {
   "attachments": {},
   "cell_type": "markdown",
   "metadata": {},
   "source": [
    "# Suspecious message\n",
    "\n",
    "Visit [Play Fair Decryptor](https://www.boxentriq.com/code-breaking/playfair-cipher)</br>\n",
    "**Encrypted text**: MQDzqdor{Ix4Oa41W_1F_B00h_m1YlqPpPP}</br>\n",
    "**Key**: QWERTYUIOPASDFGHKLZXCVBNM</br>\n",
    "</br>\n",
    "Don't forget to match case!</br>\n",
    "Result &rarr; CTFLEARN{PL4YF41R_1S_C00L_C1PHERRRR}</br>\n",
    "Result after case matching &rarr; CTFlearn{Pl4yf41r_1s_c00l_c1pheRrRR}</br>"
   ]
  }
 ],
 "metadata": {
  "language_info": {
   "name": "python"
  },
  "orig_nbformat": 4
 },
 "nbformat": 4,
 "nbformat_minor": 2
}
