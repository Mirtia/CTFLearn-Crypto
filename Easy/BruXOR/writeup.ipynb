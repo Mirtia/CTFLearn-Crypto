{
 "cells": [
  {
   "attachments": {},
   "cell_type": "markdown",
   "metadata": {},
   "source": [
    "# BruXOR"
   ]
  },
  {
   "cell_type": "code",
   "execution_count": 42,
   "metadata": {},
   "outputs": [
    {
     "name": "stdout",
     "output_type": "stream",
     "text": [
      "0x1\n",
      "0x2\n",
      "0x3\n",
      "0x4\n",
      "0x5\n",
      "0x6\n",
      "0x7\n",
      "0x8\n",
      "0x9\n",
      "0xa\n",
      "0xb\n",
      "0xc\n",
      "0xd\n",
      "0xe\n",
      "0xf\n",
      "0x10\n",
      "0x11\n",
      "0x12\n",
      "0x13\n",
      "0x14\n",
      "0x15\n",
      "0x16\n",
      "0x17\n",
      "b'flag{y0u_Have_bruteforce_XOR}'\n"
     ]
    }
   ],
   "source": [
    "import string\n",
    "import binascii\n",
    "\n",
    "encrypted_text = \"q{vpln'bH_varHuebcrqxetrHOXEj\"\n",
    "keys = int(\"00\", base=16)\n",
    "xor_text = \"\"\n",
    "while 1:\n",
    "    xor_text = \"\".join(chr(keys ^ ord(char)) for char in encrypted_text)\n",
    "    if xor_text.startswith(\"flag\"):\n",
    "        break\n",
    "    keys = keys + 1\n",
    "print(xor_text.encode(\"utf-8\"))\n"
   ]
  }
 ],
 "metadata": {
  "kernelspec": {
   "display_name": "Python 3",
   "language": "python",
   "name": "python3"
  },
  "language_info": {
   "codemirror_mode": {
    "name": "ipython",
    "version": 3
   },
   "file_extension": ".py",
   "mimetype": "text/x-python",
   "name": "python",
   "nbconvert_exporter": "python",
   "pygments_lexer": "ipython3",
   "version": "3.6.8"
  },
  "orig_nbformat": 4,
  "vscode": {
   "interpreter": {
    "hash": "30295c5bec572e859485b1ffa5e89b8b3e2022ef6e3e739c1ac40f143a557caf"
   }
  }
 },
 "nbformat": 4,
 "nbformat_minor": 2
}
