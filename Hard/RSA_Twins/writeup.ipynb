{
 "cells": [
  {
   "attachments": {},
   "cell_type": "markdown",
   "metadata": {},
   "source": [
    "# RSA Twins"
   ]
  },
  {
   "cell_type": "code",
   "execution_count": 2,
   "metadata": {},
   "outputs": [
    {
     "data": {
      "text/plain": [
       "b'flag{i_l0v3_tw1N_pr1m3s}'"
      ]
     },
     "execution_count": 2,
     "metadata": {},
     "output_type": "execute_result"
    }
   ],
   "source": [
    "from Crypto.Util.number import inverse\n",
    "\n",
    "n = 14783703403657671882600600446061886156235531325852194800287001788765221084107631153330658325830443132164971084137462046607458019775851952933254941568056899\n",
    "e = 65537\n",
    "c = 684151956678815994103733261966890872908254340972007896833477109225858676207046453897176861126186570268646592844185948487733725335274498844684380516667587\n",
    "\n",
    "# from factor.db\n",
    "p = 121588253559534573498320028934517990374721243335397811413129137253981502291629\n",
    "q = 121588253559534573498320028934517990374721243335397811413129137253981502291631\n",
    "phi = (p - 1) * (q - 1) \n",
    "d = inverse(e, phi)\n",
    "message = pow(c, d, n)\n",
    "\n",
    "bytes.fromhex(hex(message)[2:])"
   ]
  }
 ],
 "metadata": {
  "kernelspec": {
   "display_name": "Python 3",
   "language": "python",
   "name": "python3"
  },
  "language_info": {
   "codemirror_mode": {
    "name": "ipython",
    "version": 3
   },
   "file_extension": ".py",
   "mimetype": "text/x-python",
   "name": "python",
   "nbconvert_exporter": "python",
   "pygments_lexer": "ipython3",
   "version": "3.5.2"
  },
  "orig_nbformat": 4,
  "vscode": {
   "interpreter": {
    "hash": "2d7075eda06572014a3dfd447e6915f0dadc794767f53ba9bc4e3ed19eeb098d"
   }
  }
 },
 "nbformat": 4,
 "nbformat_minor": 2
}
