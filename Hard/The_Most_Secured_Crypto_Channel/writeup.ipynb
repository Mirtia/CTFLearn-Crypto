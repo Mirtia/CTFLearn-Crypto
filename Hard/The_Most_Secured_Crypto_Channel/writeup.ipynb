{
 "cells": [
  {
   "attachments": {},
   "cell_type": "markdown",
   "metadata": {},
   "source": [
    "# The Most Secured Crypto-Channel\n",
    "\n",
    "First of all, I would suggest reading about bb84. This [writeup](https://devel0pment.de/?p=1533) about another challenge was very explanatory on how quantum key distribution works. Also, read this [wikipedia article](https://en.wikipedia.org/wiki/Quantum_key_distribution).</br> \n",
    "If you examine the first transmission file (transmission1.txt), and think about what you have just read, you can see that the symbols {/, \\\\, |, -} represent the degress of the qbit stream.</br>\n",
    "The second transmission file (transmission2.txt) represents the used basis as it includes {+, x} symbols.</br>\n",
    "I didn't really use the third file to solve the challenge.</br>\n",
    "We use the first two transmission files to extract the initial bit stream."
   ]
  },
  {
   "cell_type": "code",
   "execution_count": null,
   "metadata": {},
   "outputs": [],
   "source": [
    "import os\n",
    "from Crypto.Util.number import long_to_bytes\n",
    "import base64\n",
    "\n",
    "translation_table = {\"+|\": \"1\", \"+-\": \"0\", \"x\\\\\": \"1\", \"x/\": \"0\"}\n",
    "with open(os.path.join(\"sputnik\", \"transmission1.txt\"), mode=\"r\") as t1, open(os.path.join(\"sputnik\", \"transmission2.txt\"), mode=\"r\") as t2:\n",
    "    qbit_stream = t1.read()\n",
    "    used_basis = t2.read()\n",
    "\n",
    "bin_seq = \"\".join([translation_table[b + q]  for b, q in zip(used_basis, qbit_stream) if b + q in translation_table])\n",
    "base64.b64decode(long_to_bytes(int(bin_seq, 2))[4:])"
   ]
  }
 ],
 "metadata": {
  "kernelspec": {
   "display_name": "Python 3",
   "language": "python",
   "name": "python3"
  },
  "language_info": {
   "codemirror_mode": {
    "name": "ipython",
    "version": 3
   },
   "file_extension": ".py",
   "mimetype": "text/x-python",
   "name": "python",
   "nbconvert_exporter": "python",
   "pygments_lexer": "ipython3",
   "version": "3.6.8"
  },
  "orig_nbformat": 4,
  "vscode": {
   "interpreter": {
    "hash": "30295c5bec572e859485b1ffa5e89b8b3e2022ef6e3e739c1ac40f143a557caf"
   }
  }
 },
 "nbformat": 4,
 "nbformat_minor": 2
}
