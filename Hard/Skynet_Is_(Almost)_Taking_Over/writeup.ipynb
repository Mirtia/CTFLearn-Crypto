{
 "cells": [
  {
   "attachments": {},
   "cell_type": "markdown",
   "metadata": {},
   "source": [
    "# Skynet Is (Almost) Taking Over"
   ]
  },
  {
   "cell_type": "code",
   "execution_count": 1,
   "metadata": {},
   "outputs": [
    {
     "data": {
      "text/plain": [
       "b'flag{will_he_be_back}'"
      ]
     },
     "execution_count": 1,
     "metadata": {},
     "output_type": "execute_result"
    }
   ],
   "source": [
    "from gmpy2 import mpz, gcd, powmod, invert\n",
    "\n",
    "n1 = mpz(10603199174122839808738169357706062732533966731323858892743816728206914395320609331466257631096646511986506501272036007668358071304364156150345138983648630874220488837685118753574424686204595981514561343227316297317899)\n",
    "n2 = mpz(5613358668671613665566510382994441407219432062998832523305840186970780370368271618683122274081615792349154210168307159475914213081021759597948038689876676892007399580995868266543309872185843728429426430822156211839073)\n",
    "n3 = mpz(43197226819995414250880489055413585390503681019180594772781599842207471693041753129885439403306011423063922105541557658194092177558145184151460920732675652134876335722840331008185551706229533179802997366680787866083523)\n",
    "\n",
    "c1 = mpz(5024836662627906750454817701922271080214720765897113783786369197810770999608528443597447448508876214100063962982376037712548944474807897847869334582773452689962992522987755069402952836848501053684233233850594080254869)\n",
    "# smallest odd number = 3, possible combinations for any p, q, r factors\n",
    "# p * q = n1\n",
    "# q * r = n2\n",
    "# p * r = n3\n",
    "\n",
    "e = 65537\n",
    "p = gcd(n1, n2)\n",
    "\n",
    "q = n1 // p\n",
    "phi = (p - 1) * (q - 1) \n",
    "d = invert(e, phi)\n",
    "message = powmod(c1, d, n1)\n",
    "\n",
    "bytes.fromhex(hex(message)[2:])\n"
   ]
  }
 ],
 "metadata": {
  "kernelspec": {
   "display_name": "Python 3",
   "language": "python",
   "name": "python3"
  },
  "language_info": {
   "codemirror_mode": {
    "name": "ipython",
    "version": 3
   },
   "file_extension": ".py",
   "mimetype": "text/x-python",
   "name": "python",
   "nbconvert_exporter": "python",
   "pygments_lexer": "ipython3",
   "version": "3.5.2"
  },
  "orig_nbformat": 4,
  "vscode": {
   "interpreter": {
    "hash": "2d7075eda06572014a3dfd447e6915f0dadc794767f53ba9bc4e3ed19eeb098d"
   }
  }
 },
 "nbformat": 4,
 "nbformat_minor": 2
}
