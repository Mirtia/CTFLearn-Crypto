{
 "cells": [
  {
   "attachments": {},
   "cell_type": "markdown",
   "metadata": {},
   "source": [
    "# Linear-feedback.Shift.Register"
   ]
  },
  {
   "cell_type": "code",
   "execution_count": 20,
   "metadata": {},
   "outputs": [],
   "source": [
    "# PRNG\n",
    "# XOR every next character\n",
    "# MAX_NUM = 255\n",
    "# CTFlearn{\n",
    "\n",
    "content = None\n",
    "with open(\"secretMessage.hex\", mode=\"rb\") as sf:\n",
    "    content = sf.read()\n",
    "\n",
    "sequence = int.from_bytes(content, byteorder=\"big\")\n",
    "\n",
    "# 255 "
   ]
  }
 ],
 "metadata": {
  "kernelspec": {
   "display_name": "Python 3",
   "language": "python",
   "name": "python3"
  },
  "language_info": {
   "codemirror_mode": {
    "name": "ipython",
    "version": 3
   },
   "file_extension": ".py",
   "mimetype": "text/x-python",
   "name": "python",
   "nbconvert_exporter": "python",
   "pygments_lexer": "ipython3",
   "version": "3.5.2"
  },
  "orig_nbformat": 4,
  "vscode": {
   "interpreter": {
    "hash": "2d7075eda06572014a3dfd447e6915f0dadc794767f53ba9bc4e3ed19eeb098d"
   }
  }
 },
 "nbformat": 4,
 "nbformat_minor": 2
}
