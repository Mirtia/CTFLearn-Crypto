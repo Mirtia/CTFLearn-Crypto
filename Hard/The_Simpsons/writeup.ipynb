{
 "cells": [
  {
   "attachments": {},
   "cell_type": "markdown",
   "metadata": {},
   "source": [
    "# The Simpsons\n",
    "\n",
    "First, we use strings to discover hints. \n",
    "The code snippet that was included in the image looks like this:\n",
    "```python\n",
    "encoded = 152 162 152 145 162 167 150 172 153 162 145 170 141 162\n",
    "key = chr(SolutionToDis(110 157 167 040 155 165 143 150 040 144 151 144 040 115 141 147 147 151 145 040 157 162 151 147 151 156 141 154 154 171 040 143 157 163 164 077 040 050 104 151 166 151 144 145 144 040 142 171 040 070 054 040 164 157 040 164 150 145 040 156 145 141 162 145 163 164 040 151 156 164 145 147 145 162 054 040 141 156 144 040 164 150 145 156 040 160 154 165 163 040 146 157 165 162 051))\n",
    "key = key + key + chr(ord(key)-4)\n",
    "print(DecodeDat(key=key,text=encoded))\n",
    "```\n",
    "\n",
    "We decode the **SolutionToDis** parameter and get the following text: </br>\n",
    "*\"How much did Maggie originally cost? (Divided by 8, to the nearest integer, and then plus four)\"*</br>\n",
    "If you search up the cost of Maggie, you can see that it is 847.63 in a Simpsons episode.</br>\n",
    "Then you calculate the key as stated in the code.</br>\n",
    "```python\n",
    "import math\n",
    "key = chr(math.ceil(847.63 / 8) + 4)\n",
    "key = key + key + chr(ord(key) - 4)\n",
    "```\n",
    "After encoding to octal the encoded part: *jrjerwhzkrexar* and with key *nnj* we use [CyberChef](https://gchq.github.io/CyberChef/) with Vigenere Cipher recipe."
   ]
  }
 ],
 "metadata": {
  "kernelspec": {
   "display_name": "Python 3",
   "language": "python",
   "name": "python3"
  },
  "language_info": {
   "codemirror_mode": {
    "name": "ipython",
    "version": 3
   },
   "file_extension": ".py",
   "mimetype": "text/x-python",
   "name": "python",
   "nbconvert_exporter": "python",
   "pygments_lexer": "ipython3",
   "version": "3.6.8"
  },
  "orig_nbformat": 4,
  "vscode": {
   "interpreter": {
    "hash": "30295c5bec572e859485b1ffa5e89b8b3e2022ef6e3e739c1ac40f143a557caf"
   }
  }
 },
 "nbformat": 4,
 "nbformat_minor": 2
}
