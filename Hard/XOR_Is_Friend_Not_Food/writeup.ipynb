{
 "cells": [
  {
   "attachments": {},
   "cell_type": "markdown",
   "metadata": {},
   "source": [
    "# XOR Is Friend not Food"
   ]
  },
  {
   "cell_type": "code",
   "execution_count": null,
   "metadata": {},
   "outputs": [],
   "source": [
    "\n",
    "def decimal_to_ascii(decimal_sequence: list):\n",
    "    return \"\".join([chr(decimal) for decimal in decimal_sequence]).encode()\n",
    "\n",
    "sequence = b\"\\t\\x1b\\x11\\x00\\x16\\x0b\\x1d\\x19\\x17\\x0b\\x05\\x1d(\\x05\\x005\\x1b\\x1f\\t,\\r\\x00\\x18\\x1c\\x0e\"\n",
    "hint = b\"ctflearn{\"\n",
    "hint_suffix = b\"}\"\n",
    "xor_hint_result = [seq ^ h for seq, h in zip(sequence, hint)]\n",
    "xor_hint_suffix_result = [sequence[-1] ^ hint_suffix[0]]\n",
    "xor_hint_total_result = xor_hint_result + xor_hint_suffix_result\n",
    "extended_key = bytes(decimal_to_ascii(xor_hint_total_result)) * 3\n",
    "decimal_to_ascii([key ^ char for key, char in zip(extended_key, sequence)])"
   ]
  }
 ],
 "metadata": {
  "kernelspec": {
   "display_name": "Python 3",
   "language": "python",
   "name": "python3"
  },
  "language_info": {
   "codemirror_mode": {
    "name": "ipython",
    "version": 3
   },
   "file_extension": ".py",
   "mimetype": "text/x-python",
   "name": "python",
   "nbconvert_exporter": "python",
   "pygments_lexer": "ipython3",
   "version": "3.6.8"
  },
  "orig_nbformat": 4,
  "vscode": {
   "interpreter": {
    "hash": "30295c5bec572e859485b1ffa5e89b8b3e2022ef6e3e739c1ac40f143a557caf"
   }
  }
 },
 "nbformat": 4,
 "nbformat_minor": 2
}
