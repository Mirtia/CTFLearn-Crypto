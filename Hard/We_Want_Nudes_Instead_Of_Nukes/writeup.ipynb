{
 "cells": [
  {
   "attachments": {},
   "cell_type": "markdown",
   "metadata": {},
   "source": [
    "# We want Nudes instead of Nukes"
   ]
  },
  {
   "cell_type": "code",
   "execution_count": null,
   "metadata": {},
   "outputs": [],
   "source": [
    "iv = \"391e95a15847cfd95ecee8f7fe7efd66\"\n",
    "c = \"8473dcb86bc12c6b6087619c00b6657e\"\n",
    "plain_text = b\"FIRE_NUKES_MELA!\"\n",
    "read_message = b\"SEND_NUDES_MELA!\"\n",
    "\n",
    "iv_bytes = bytearray.fromhex(iv)\n",
    "c_bytes  = bytearray.fromhex(c)\n",
    "\n",
    "\"flag{\" + \"\".join([hex(pt ^ rm ^ iv)[2:] for pt, rm, iv in zip(plain_text, read_message, iv_bytes)]) + \",\" + c + \"}\""
   ]
  }
 ],
 "metadata": {
  "kernelspec": {
   "display_name": "Python 3",
   "language": "python",
   "name": "python3"
  },
  "language_info": {
   "codemirror_mode": {
    "name": "ipython",
    "version": 3
   },
   "file_extension": ".py",
   "mimetype": "text/x-python",
   "name": "python",
   "nbconvert_exporter": "python",
   "pygments_lexer": "ipython3",
   "version": "3.6.8"
  },
  "orig_nbformat": 4,
  "vscode": {
   "interpreter": {
    "hash": "30295c5bec572e859485b1ffa5e89b8b3e2022ef6e3e739c1ac40f143a557caf"
   }
  }
 },
 "nbformat": 4,
 "nbformat_minor": 2
}
