{
 "cells": [
  {
   "attachments": {},
   "cell_type": "markdown",
   "metadata": {},
   "source": [
    "# Symbolic Decimals"
   ]
  },
  {
   "cell_type": "code",
   "execution_count": 1,
   "metadata": {},
   "outputs": [
    {
     "data": {
      "text/plain": [
       "b'\\x19*u\\x82\\x9e\\x0c\\x06J\\\\\\x11*Kgr~xK\\x19\\xa3\\xa6h]\\x9e\\xad.\\xb0[J\\x85'"
      ]
     },
     "execution_count": 1,
     "metadata": {},
     "output_type": "execute_result"
    }
   ],
   "source": [
    "import string\n",
    "from Crypto.Util.number import long_to_bytes\n",
    "\n",
    "def is_ascii_printable(character):\n",
    "    return chr(int(character)) in string.printable\n",
    "\n",
    "def convert_decimal_to_ascii(character_sequence):\n",
    "    i = 0\n",
    "    converted = []\n",
    "\n",
    "    while i < len(character_sequence):\n",
    "\n",
    "        if i + 3 <= len(character_sequence):\n",
    "            character = character_sequence[i : i + 3]\n",
    "            if is_ascii_printable(character):\n",
    "                i += 3 \n",
    "                converted.append(chr(int(character)))\n",
    "                continue\n",
    "\n",
    "        if i + 2 <= len(character_sequence):\n",
    "            character = character_sequence[i : i + 2]\n",
    "            if is_ascii_printable(character):\n",
    "                i += 2\n",
    "                converted.append(chr(int(character)))\n",
    "                continue\n",
    "                   \n",
    "        raise ValueError\n",
    "    \n",
    "    return \"\".join(converted)\n",
    "\n",
    "symbolic_decimals = {\")\": \"0\", \"!\": \"1\", \"@\": \"2\", \"#\": \"3\", \"$\": \"4\", \"%\": \"5\", \"^\": \"6\", \"&\": \"7\", \"*\": \"8\", \"(\": \"9\"}\n",
    "sequence = \"^&,*$,&),!@#,*#,!!^,(&,!!$,(%,$^,(%,*&,(&,!!$,!!%,(%,$^,(%,&),!!!,!!$,(%,$^,(%,&^,!)%,!)@,!)!,!@%\"\n",
    "result = \"\".join([symbolic_decimals[key] for key in sequence if key in symbolic_decimals.keys()])\n",
    "convert_decimal_to_ascii(result)"
   ]
  }
 ],
 "metadata": {
  "kernelspec": {
   "display_name": "Python 3",
   "language": "python",
   "name": "python3"
  },
  "language_info": {
   "codemirror_mode": {
    "name": "ipython",
    "version": 3
   },
   "file_extension": ".py",
   "mimetype": "text/x-python",
   "name": "python",
   "nbconvert_exporter": "python",
   "pygments_lexer": "ipython3",
   "version": "3.6.8"
  },
  "orig_nbformat": 4,
  "vscode": {
   "interpreter": {
    "hash": "30295c5bec572e859485b1ffa5e89b8b3e2022ef6e3e739c1ac40f143a557caf"
   }
  }
 },
 "nbformat": 4,
 "nbformat_minor": 2
}
