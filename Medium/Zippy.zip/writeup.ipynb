{
 "cells": [
  {
   "attachments": {},
   "cell_type": "markdown",
   "metadata": {},
   "source": [
    "# Zippy.zip\n",
    "\n",
    "```bash\n",
    "strings flag* | grep -v \"flag*\" | cut -d, -f2- | tr '\\n' ' ' | awk 'NF>1'\n",
    "# This is wrong crc, crc32 are different\n",
    "exiftool -a flag* | grep CRC > crc.txt\n",
    "crc32 flag* > crc32.txt\n",
    "# jcQSkw! Skw! jcQSkw! ?loPK  (S5B Uy:PK m3fPK jcQ5 jcQ5\n",
    "# jcQSkw!Skw!jcQSkw!?loPK(S5BUy:PKm3fPKjcQ5jcQ5\n",
    "```"
   ]
  },
  {
   "cell_type": "code",
   "execution_count": 19,
   "metadata": {},
   "outputs": [
    {
     "data": {
      "text/plain": [
       "'55637e21f342103f3593f9a120e59fd0888d0ddb0f3be19207567452f8a5932d58417687b8db1e9b4a853dd52111a1d4b17977929fcc6146'"
      ]
     },
     "execution_count": 19,
     "metadata": {},
     "output_type": "execute_result"
    }
   ],
   "source": [
    "import binascii\n",
    "with open(\"flag_parts/crc32.txt\") as sf:\n",
    "    passwords = sf.read().splitlines()\n",
    "password = \"\".join(passwords)"
   ]
  }
 ],
 "metadata": {
  "kernelspec": {
   "display_name": "Python 3",
   "language": "python",
   "name": "python3"
  },
  "language_info": {
   "codemirror_mode": {
    "name": "ipython",
    "version": 3
   },
   "file_extension": ".py",
   "mimetype": "text/x-python",
   "name": "python",
   "nbconvert_exporter": "python",
   "pygments_lexer": "ipython3",
   "version": "3.6.8"
  },
  "orig_nbformat": 4,
  "vscode": {
   "interpreter": {
    "hash": "30295c5bec572e859485b1ffa5e89b8b3e2022ef6e3e739c1ac40f143a557caf"
   }
  }
 },
 "nbformat": 4,
 "nbformat_minor": 2
}
