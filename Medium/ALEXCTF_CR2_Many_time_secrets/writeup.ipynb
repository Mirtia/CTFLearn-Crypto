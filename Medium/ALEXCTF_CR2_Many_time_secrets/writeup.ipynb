{
 "cells": [
  {
   "attachments": {},
   "cell_type": "markdown",
   "metadata": {},
   "source": [
    "# ALEXCTF CR2: Many time secrets"
   ]
  },
  {
   "cell_type": "code",
   "execution_count": null,
   "metadata": {},
   "outputs": [],
   "source": [
    "import binascii\n",
    "\n",
    "with open(\"msg\", mode=\"r\") as sf:\n",
    "    sequences = [binascii.unhexlify(line) for line in sf.read().split(\"\\n\")[:-1]]\n",
    "hint_0 = b\"ALEXCTF{\"\n",
    "\n",
    "for i, sequence in enumerate(sequences):\n",
    "    msg_0 = bytes([x ^ y for  x, y in zip(sequence, hint_0)])\n",
    "    # print(\"Message: \", msg_0, \"Line: \", i)\n",
    "\n",
    "msg_guess_0 = b\"Dear Friend,\"\n",
    "hint_1 = bytes([x ^ y for  x, y in zip(sequences[0], msg_guess_0)])\n",
    "\n",
    "for i, sequence in enumerate(sequences):\n",
    "    msg_1 = bytes([x ^ y for  x, y in zip(sequence, hint_1)])\n",
    "    # print(\"Message: \", msg_1, \"Line: \", i)\n",
    "\n",
    "# Guessed that one One time (pad) encryptio (n is in next line)\n",
    "msg_guess_2 = b\"sed One time pad encryptio\"\n",
    "hint_3 = bytes([x ^ y for  x, y in zip(sequences[2], msg_guess_2)])\n",
    "hint_3"
   ]
  }
 ],
 "metadata": {
  "kernelspec": {
   "display_name": "Python 3",
   "language": "python",
   "name": "python3"
  },
  "language_info": {
   "codemirror_mode": {
    "name": "ipython",
    "version": 3
   },
   "file_extension": ".py",
   "mimetype": "text/x-python",
   "name": "python",
   "nbconvert_exporter": "python",
   "pygments_lexer": "ipython3",
   "version": "3.6.8"
  },
  "orig_nbformat": 4,
  "vscode": {
   "interpreter": {
    "hash": "30295c5bec572e859485b1ffa5e89b8b3e2022ef6e3e739c1ac40f143a557caf"
   }
  }
 },
 "nbformat": 4,
 "nbformat_minor": 2
}
